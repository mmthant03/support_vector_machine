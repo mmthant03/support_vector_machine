{
 "nbformat": 4,
 "nbformat_minor": 2,
 "metadata": {
  "language_info": {
   "name": "python",
   "codemirror_mode": {
    "name": "ipython",
    "version": 3
   },
   "version": "3.7.3-final"
  },
  "orig_nbformat": 2,
  "file_extension": ".py",
  "mimetype": "text/x-python",
  "name": "python",
  "npconvert_exporter": "python",
  "pygments_lexer": "ipython3",
  "version": 3,
  "kernelspec": {
   "name": "python3",
   "display_name": "Python 3"
  }
 },
 "cells": [
  {
   "cell_type": "code",
   "execution_count": null,
   "metadata": {},
   "outputs": [],
   "source": [
    "from cvxopt import solvers, matrix\n",
    "import numpy as np\n",
    "import sklearn.svm\n",
    "\n",
    "class SVM4342 ():\n",
    "    def __init__ (self):\n",
    "        pass\n",
    "\n",
    "    # Expects each *row* to be an m-dimensional row vector. X should\n",
    "    # contain n rows, where n is the number of examples.\n",
    "    # y should correspondingly be an n-vector of labels (-1 or +1).\n",
    "    def fit (self, X, y):\n",
    "        X_tilde = np.append(X, np.)\n",
    "\n",
    "        # TODO change these -- they should be matrices or vectors\n",
    "        G = 0\n",
    "        P = 0\n",
    "        q = 0\n",
    "        h = 0\n",
    "\n",
    "        # Solve -- if the variables above are defined correctly, you can call this as-is:\n",
    "        sol = solvers.qp(matrix(P, tc='d'), matrix(q, tc='d'), matrix(G, tc='d'), matrix(h, tc='d'))\n",
    "\n",
    "        # Fetch the learned hyperplane and bias parameters out of sol['x']\n",
    "        self.w = 0  # TODO change this\n",
    "        self.b = 0  # TODO change this\n",
    "\n",
    "    # Given a 2-D matrix of examples X, output a vector of predicted class labels\n",
    "    def predict (self, x):\n",
    "        return 0  # TODO fix\n",
    "\n",
    "def test1 ():\n",
    "    # Set up toy problem\n",
    "    X = np.array([ [1,1], [2,1], [1,2], [2,3], [1,4], [2,4] ])\n",
    "    y = np.array([-1,-1,-1,1,1,1])\n",
    "\n",
    "    # Train your model\n",
    "    svm4342 = SVM4342()\n",
    "    svm4342.fit(X, y)\n",
    "    print(svm4342.w, svm4342.b)\n",
    "\n",
    "    # Compare with sklearn\n",
    "    svm = sklearn.svm.SVC(kernel='linear', C=1e15)  # 1e15 -- approximate hard-margin\n",
    "    svm.fit(X, y)\n",
    "    print(svm.coef_, svm.intercept_)\n",
    "\n",
    "    acc = np.mean(svm4342.predict(X) == svm.predict(X))\n",
    "    print(\"Acc={}\".format(acc))\n",
    "\n",
    "def test2 (seed):\n",
    "    np.random.seed(seed)\n",
    "\n",
    "    # Generate random data\n",
    "    X = np.random.rand(20,3)\n",
    "    # Generate random labels based on a random \"ground-truth\" hyperplane\n",
    "    while True:\n",
    "        w = np.random.rand(3)\n",
    "        y = 2*(X.dot(w) > 0.5) - 1\n",
    "        # Keep generating ground-truth hyperplanes until we find one\n",
    "        # that results in 2 classes\n",
    "        if len(np.unique(y)) > 1:\n",
    "            break\n",
    "\n",
    "    svm4342 = SVM4342()\n",
    "    svm4342.fit(X, y)\n",
    "\n",
    "    # Compare with sklearn\n",
    "    svm = sklearn.svm.SVC(kernel='linear', C=1e15)  # 1e15 -- approximate hard margin\n",
    "    svm.fit(X, y)\n",
    "    diff = np.linalg.norm(svm.coef_ - svm4342.w) + np.abs(svm.intercept_ - svm4342.b)\n",
    "    print(diff)\n",
    "\n",
    "    acc = np.mean(svm4342.predict(X) == svm.predict(X))\n",
    "    print(\"Acc={}\".format(acc))\n",
    "\n",
    "    if acc == 1 and diff < 1e-1:\n",
    "        print(\"Passed\")\n",
    "\n",
    "\n"
   ]
  },
  {
   "cell_type": "code",
   "execution_count": null,
   "metadata": {},
   "outputs": [],
   "source": [
    "if __name__ == \"__main__\": \n",
    "    test1()\n",
    "    for seed in range(5):\n",
    "        test2(seed)"
   ]
  },
  {
   "cell_type": "code",
   "execution_count": 9,
   "metadata": {},
   "outputs": [
    {
     "output_type": "stream",
     "name": "stdout",
     "text": "(6,)\n(6, 1)\n"
    }
   ],
   "source": [
    "import numpy as np\n",
    "x = np.random.rand(20,3)\n",
    "y = np.array([-1,-1,-1,1,1,1])\n",
    "xt = np.append(x, np.full((x.shape[0], 1), 1), axis=1)\n",
    "print(y)\n",
    "y = y.reshape(-1, 1)\n",
    "print(y)\n"
   ]
  },
  {
   "cell_type": "code",
   "execution_count": null,
   "metadata": {},
   "outputs": [],
   "source": []
  }
 ]
}