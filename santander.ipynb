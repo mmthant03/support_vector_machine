{
 "cells": [
  {
   "cell_type": "code",
   "execution_count": 3,
   "metadata": {
    "scrolled": true
   },
   "outputs": [],
   "source": [
    "import sklearn.svm\n",
    "import sklearn.metrics\n",
    "import numpy as np\n",
    "import pandas\n",
    "from homework4_jpcaltabiano_mmthant import SVM4342\n",
    "\n",
    "# Load data\n",
    "d = pandas.read_csv('train.csv')\n",
    "y = np.array(d.target)  # Labels\n",
    "X = np.array(d.iloc[:,2:])  # Features\n",
    "\n",
    "train_y = y[:100000]\n",
    "train_X = X[:100000]\n",
    "\n",
    "test_y = y[100000:]\n",
    "test_X = X[100000:]\n",
    "\n",
    "# Load test set (not needed?)\n",
    "# td = pandas.read_csv('test.csv')\n",
    "# ty = np.array(pandas.read_csv('sample_submission.csv').target)\n",
    "# tX = np.array(td.iloc[:,1:])"
   ]
  },
  {
   "cell_type": "code",
   "execution_count": 17,
   "metadata": {
    "scrolled": true
   },
   "outputs": [],
   "source": [
    "train_subX = np.vsplit(train_X, 1000)\n",
    "train_suby = np.split(train_y, 1000)\n",
    "\n",
    "svms = []\n",
    "for i in range(len(train_subX)):\n",
    "    svm = sklearn.svm.SVC(kernel='linear', C=1e15)  # 1e15 -- approximate hard-margin\n",
    "    svm.fit(train_subX[i], train_suby[i])\n",
    "    svms.append(svm)"
   ]
  },
  {
   "cell_type": "code",
   "execution_count": 35,
   "metadata": {},
   "outputs": [
    {
     "name": "stdout",
     "output_type": "stream",
     "text": [
      "0.89917\n"
     ]
    }
   ],
   "source": [
    "# heads up - doing the loop for all in svms takes a very long time, loop thru svms[:5] to test\n",
    "\n",
    "preds = np.zeros((100000,))\n",
    "for i in svms:\n",
    "    preds += i.decision_function(test_X)\n",
    "    \n",
    "preds = svms.shape[0]\n",
    "\n",
    "preds = np.where(preds > 0.5, 1, 0)\n",
    "\n",
    "acc = np.mean(preds == test_y)\n",
    "print(acc)"
   ]
  },
  {
   "cell_type": "code",
   "execution_count": null,
   "metadata": {},
   "outputs": [],
   "source": []
  }
 ],
 "metadata": {
  "kernelspec": {
   "display_name": "Python 3",
   "language": "python",
   "name": "python3"
  },
  "language_info": {
   "codemirror_mode": {
    "name": "ipython",
    "version": 3
   },
   "file_extension": ".py",
   "mimetype": "text/x-python",
   "name": "python",
   "nbconvert_exporter": "python",
   "pygments_lexer": "ipython3",
   "version": "3.6.8"
  }
 },
 "nbformat": 4,
 "nbformat_minor": 4
}
