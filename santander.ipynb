{
 "cells": [
  {
   "cell_type": "code",
   "execution_count": 3,
   "metadata": {
    "scrolled": true
   },
   "outputs": [],
   "source": [
    "import sklearn.svm\n",
    "import sklearn.metrics\n",
    "import numpy as np\n",
    "import pandas\n",
    "from homework4_jpcaltabiano_mmthant import SVM4342\n",
    "\n",
    "# Load data\n",
    "d = pandas.read_csv('train.csv')\n",
    "y = np.array(d.target)  # Labels\n",
    "X = np.array(d.iloc[:,2:])  # Features\n",
    "\n",
    "train_y = y[:100000]\n",
    "train_X = X[:100000]\n",
    "\n",
    "test_y = y[100000:]\n",
    "test_X = X[100000:]\n",
    "\n",
    "# Load test set (not needed?)\n",
    "# td = pandas.read_csv('test.csv')\n",
    "# ty = np.array(pandas.read_csv('sample_submission.csv').target)\n",
    "# tX = np.array(td.iloc[:,1:])"
   ]
  },
  {
   "cell_type": "code",
   "execution_count": 17,
   "metadata": {
    "scrolled": true
   },
   "outputs": [],
   "source": [
    "train_subX = np.vsplit(train_X, 1000)\n",
    "train_suby = np.split(train_y, 1000)\n",
    "\n",
    "svms = []\n",
    "for i in range(len(train_subX)):\n",
    "    svm = sklearn.svm.SVC(kernel='linear', C=1e15)  # 1e15 -- approximate hard-margin\n",
    "    svm.fit(train_subX[i], train_suby[i])\n",
    "    svms.append(svm)"
   ]
  },
  {
   "cell_type": "code",
   "execution_count": 28,
   "metadata": {},
   "outputs": [
    {
     "name": "stdout",
     "output_type": "stream",
     "text": [
      "[-1.06795097 -1.0592718  -1.87783078 ... -1.30639934 -2.97498157\n",
      " -0.13523921]\n",
      "[-0.85024015 -0.85127793 -2.33056253 ... -1.7238597  -0.9203757\n",
      " -1.53564088]\n",
      "[-1.87602814 -2.33223907 -1.10570038 ... -1.4613696  -0.13650092\n",
      " -1.16258266]\n",
      "[ 0.55030252 -0.09938604 -0.17055422 ... -1.31750503 -1.31029354\n",
      " -2.69450662]\n",
      "[-1.16064123 -0.50777743 -1.42150258 ... -0.68045401 -2.38101048\n",
      " -1.13970205]\n",
      "[-0.8809116  -0.96999045 -1.3812301  ... -1.29791754 -1.54463244\n",
      " -1.33353428]\n"
     ]
    }
   ],
   "source": [
    "preds = np.zeros((100000,))\n",
    "for i in svms[:5]:\n",
    "    preds += i.decision_function(test_X)\n",
    "    \n"
   ]
  },
  {
   "cell_type": "code",
   "execution_count": null,
   "metadata": {},
   "outputs": [],
   "source": []
  }
 ],
 "metadata": {
  "kernelspec": {
   "display_name": "Python 3",
   "language": "python",
   "name": "python3"
  },
  "language_info": {
   "codemirror_mode": {
    "name": "ipython",
    "version": 3
   },
   "file_extension": ".py",
   "mimetype": "text/x-python",
   "name": "python",
   "nbconvert_exporter": "python",
   "pygments_lexer": "ipython3",
   "version": "3.6.8"
  }
 },
 "nbformat": 4,
 "nbformat_minor": 4
}
