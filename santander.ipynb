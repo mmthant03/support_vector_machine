{
 "cells": [
  {
   "cell_type": "code",
   "execution_count": 3,
   "metadata": {
    "scrolled": false
   },
   "outputs": [
    {
     "name": "stdout",
     "output_type": "stream",
     "text": [
      "   ID_code  target    var_0   var_1    var_2  var_3    var_4   var_5   var_6  \\\n",
      "0  train_0       0   8.9255 -6.7863  11.9081  5.093  11.4607 -9.2834  5.1187   \n",
      "1  train_1       0  11.5006 -4.1473  13.8588  5.389  12.3622  7.0433  5.6208   \n",
      "\n",
      "     var_7  ...  var_190  var_191  var_192  var_193  var_194  var_195  \\\n",
      "0  18.6266  ...   4.4354   3.9642   3.1364   1.6910  18.5227  -2.3978   \n",
      "1  16.5338  ...   7.6421   7.7214   2.5837  10.9516  15.4305   2.0339   \n",
      "\n",
      "   var_196  var_197  var_198  var_199  \n",
      "0   7.8784   8.5635  12.7803  -1.0914  \n",
      "1   8.1267   8.7889  18.3560   1.9518  \n",
      "\n",
      "[2 rows x 202 columns]\n",
      "             ID_code  target    var_0   var_1    var_2   var_3    var_4  \\\n",
      "101333  train_101333       0  14.4280 -1.9823  12.6307  6.0561  10.6738   \n",
      "157667  train_157667       0   9.8566  5.5852  11.1883  9.1968  10.6613   \n",
      "\n",
      "          var_5   var_6    var_7  ...  var_190  var_191  var_192  var_193  \\\n",
      "101333  -9.4778  4.3949  18.1882  ...   7.4107  10.0726  -0.1945   5.0773   \n",
      "157667 -10.2296  5.7153  15.3594  ...   7.3763   8.5288   2.8284   7.6147   \n",
      "\n",
      "        var_194  var_195  var_196  var_197  var_198  var_199  \n",
      "101333  18.1348  -2.1336   9.4739   9.3956  17.0462  -1.5383  \n",
      "157667  17.3447  -2.1133  -1.7052   8.8343  14.4348  -4.9114  \n",
      "\n",
      "[2 rows x 202 columns]\n"
     ]
    }
   ],
   "source": [
    "import sklearn.svm\n",
    "import sklearn.metrics\n",
    "import numpy as np\n",
    "import pandas\n",
    "import random\n",
    "from homework4_jpcaltabiano_mmthant import SVM4342\n",
    "\n",
    "# Load data\n",
    "d = pandas.read_csv('train.csv')\n",
    "print(d[:2])\n",
    "d = d.sample(frac=1) # randomly shuffle rows\n",
    "print(d[:2])\n",
    "\n",
    "y = np.array(d.target)  # Labels\n",
    "X = np.array(d.iloc[:,2:])  # Features\n",
    "\n",
    "# this should be randomly selected\n",
    "train_y = y[:100000]\n",
    "train_X = X[:100000]\n",
    "\n",
    "test_y = y[100000:]\n",
    "test_X = X[100000:]\n",
    "\n",
    "# Load test set (not needed?)\n",
    "# td = pandas.read_csv('test.csv')\n",
    "# ty = np.array(pandas.read_csv('sample_submission.csv').target)\n",
    "# tX = np.array(td.iloc[:,1:])"
   ]
  },
  {
   "cell_type": "code",
   "execution_count": 4,
   "metadata": {
    "scrolled": true
   },
   "outputs": [],
   "source": [
    "train_subX = np.vsplit(train_X, 1000)\n",
    "train_suby = np.split(train_y, 1000)\n",
    "\n",
    "svms = []\n",
    "for i in range(len(train_subX)):\n",
    "    svm = sklearn.svm.SVC(kernel='linear', C=1e15)  # 1e15 -- approximate hard-margin\n",
    "    svm.fit(train_subX[i], train_suby[i])\n",
    "    svms.append(svm)"
   ]
  },
  {
   "cell_type": "code",
   "execution_count": 5,
   "metadata": {},
   "outputs": [
    {
     "name": "stdout",
     "output_type": "stream",
     "text": [
      "[-4.71804805 -5.14163139 -7.67875802 -5.23924925 -7.00382432]\n",
      "[-0.94360961 -1.02832628 -1.5357516  -1.04784985 -1.40076486]\n",
      "[0 0 0 0 0]\n",
      "0.89937\n"
     ]
    }
   ],
   "source": [
    "# heads up - doing the loop for all in svms takes a very long time, loop thru svms[:5] to test\n",
    "\n",
    "preds = np.zeros((100000,))\n",
    "for i in svms[:5]:\n",
    "    preds += i.decision_function(test_X)\n",
    "    \n",
    "print(preds[:5])\n",
    "\n",
    "preds = preds / 5\n",
    "\n",
    "print(preds[:5])\n",
    "print(test_y[:5])\n",
    "\n",
    "\n",
    "preds = np.where(preds > 0.5, 1, 0)\n",
    "\n",
    "acc = np.mean(preds == test_y)\n",
    "print(acc)"
   ]
  },
  {
   "cell_type": "code",
   "execution_count": null,
   "metadata": {},
   "outputs": [],
   "source": []
  }
 ],
 "metadata": {
  "kernelspec": {
   "display_name": "Python 3",
   "language": "python",
   "name": "python3"
  },
  "language_info": {
   "codemirror_mode": {
    "name": "ipython",
    "version": 3
   },
   "file_extension": ".py",
   "mimetype": "text/x-python",
   "name": "python",
   "nbconvert_exporter": "python",
   "pygments_lexer": "ipython3",
   "version": "3.6.9"
  }
 },
 "nbformat": 4,
 "nbformat_minor": 4
}
